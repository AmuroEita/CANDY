{
 "cells": [
  {
   "cell_type": "markdown",
   "metadata": {},
   "source": [
    "The following is to open perf shaped with candy, you should enable -DENABLE_PAPI=ON -DREBUILD_PAPI=ON before compile"
   ]
  },
  {
   "cell_type": "markdown",
   "metadata": {},
   "source": [
    "First, make sure you have the access to kernel readings, run the following in some terminal outside"
   ]
  },
  {
   "cell_type": "code",
   "execution_count": 4,
   "metadata": {},
   "outputs": [
    {
     "name": "stdout",
     "output_type": "stream",
     "text": [
      "[sudo] tony 的密码： \n",
      "[sudo] tony 的密码： "
     ]
    }
   ],
   "source": [
    "!sudo echo -1 | sudo tee /proc/sys/kernel/perf_event_paranoid"
   ]
  },
  {
   "cell_type": "code",
   "execution_count": 5,
   "metadata": {},
   "outputs": [],
   "source": [
    "import sys\n",
    "#Assuming you have PyCandyxxx.so at ../../../\n",
    "sys.path.append('../../../')\n",
    "import torch\n",
    "import PyCANDY as candy"
   ]
  },
  {
   "cell_type": "markdown",
   "metadata": {},
   "source": [
    "Create an index by name tag (the same tags as in c++ cases), and then config it."
   ]
  },
  {
   "cell_type": "code",
   "execution_count": 6,
   "metadata": {},
   "outputs": [
    {
     "data": {
      "text/plain": [
       "True"
      ]
     },
     "execution_count": 6,
     "metadata": {},
     "output_type": "execute_result"
    }
   ],
   "source": [
    "perf=candy.PAPIPerf()\n",
    "import time\n",
    "cfg={'vecDim':4,'metricType':\"IP\"}\n",
    "perf.initEventsByCfg(candy.dictToConfigMap(cfg))\n",
    "perf.start()\n",
    "time.sleep(1)\n",
    "perf.end()\n",
    "rucsv=perf.resultToConfigMap()\n",
    "rucsv.toFile('perfru.csv')"
   ]
  },
  {
   "cell_type": "markdown",
   "metadata": {},
   "source": [
    "It is dangerous to open perf in kernel, let's close it as a clean up by run the following outside"
   ]
  },
  {
   "cell_type": "code",
   "execution_count": null,
   "metadata": {},
   "outputs": [],
   "source": [
    "!sudo echo 2 | sudo tee /proc/sys/kernel/perf_event_paranoid"
   ]
  }
 ],
 "metadata": {
  "kernelspec": {
   "display_name": "Python 3",
   "language": "python",
   "name": "python3"
  },
  "language_info": {
   "codemirror_mode": {
    "name": "ipython",
    "version": 3
   },
   "file_extension": ".py",
   "mimetype": "text/x-python",
   "name": "python",
   "nbconvert_exporter": "python",
   "pygments_lexer": "ipython3",
   "version": "3.10.12"
  }
 },
 "nbformat": 4,
 "nbformat_minor": 2
}
