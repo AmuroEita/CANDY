{
 "cells": [
  {
   "cell_type": "markdown",
   "metadata": {},
   "source": [
    "The following is a more advanced python API version, which exactly matehes with c++, you should enable -DENABLE_PYBIND=ON before compile"
   ]
  },
  {
   "cell_type": "code",
   "execution_count": 1,
   "metadata": {},
   "outputs": [
    {
     "name": "stderr",
     "output_type": "stream",
     "text": [
      "/home/tony/.local/lib/python3.10/site-packages/tqdm/auto.py:21: TqdmWarning: IProgress not found. Please update jupyter and ipywidgets. See https://ipywidgets.readthedocs.io/en/stable/user_install.html\n",
      "  from .autonotebook import tqdm as notebook_tqdm\n"
     ]
    }
   ],
   "source": [
    "import sys\n",
    "#Assuming you have PyCandyxxx.so at ../../../\n",
    "sys.path.append('../../../')\n",
    "import torch\n",
    "import PyCANDY as candy"
   ]
  },
  {
   "cell_type": "markdown",
   "metadata": {},
   "source": [
    "Create an index by name tag (the same tags as in c++ cases), and then config it."
   ]
  },
  {
   "cell_type": "code",
   "execution_count": 2,
   "metadata": {},
   "outputs": [
    {
     "data": {
      "text/plain": [
       "True"
      ]
     },
     "execution_count": 2,
     "metadata": {},
     "output_type": "execute_result"
    }
   ],
   "source": [
    "idxFlat=candy.createIndex('flat')\n",
    "cfg={'vecDim':4,'metricType':\"IP\"}\n",
    "idxFlat.setConfig(candy.dictToConfigMap(cfg))"
   ]
  },
  {
   "cell_type": "code",
   "execution_count": 3,
   "metadata": {},
   "outputs": [
    {
     "name": "stdout",
     "output_type": "stream",
     "text": [
      "[tensor([[0.8927, 0.9783, 0.9850, 0.9555],\n",
      "        [0.8674, 0.9591, 0.8253, 0.6000]])]\n"
     ]
    }
   ],
   "source": [
    "a = torch.rand(4,4)\n",
    "idxFlat.loadInitialTensor(a)\n",
    "a2= torch.rand(4,4)\n",
    "idxFlat.insertTensor(a2)\n",
    "b=a[0:1]\n",
    "ru=idxFlat.searchTensor(b,2)\n",
    "print(ru)"
   ]
  },
  {
   "cell_type": "markdown",
   "metadata": {},
   "source": [
    "Now, the idxFlat is the same as C++ class AbstractIndex, the APIs are totally the same as those in c++ cases!"
   ]
  }
 ],
 "metadata": {
  "kernelspec": {
   "display_name": "Python 3",
   "language": "python",
   "name": "python3"
  },
  "language_info": {
   "codemirror_mode": {
    "name": "ipython",
    "version": 3
   },
   "file_extension": ".py",
   "mimetype": "text/x-python",
   "name": "python",
   "nbconvert_exporter": "python",
   "pygments_lexer": "ipython3",
   "version": "3.10.12"
  }
 },
 "nbformat": 4,
 "nbformat_minor": 2
}
