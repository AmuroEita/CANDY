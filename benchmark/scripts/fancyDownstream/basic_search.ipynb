{
 "cells": [
  {
   "cell_type": "markdown",
   "metadata": {},
   "source": [
    "The following is a more advanced python API version, which exactly matehes with c++, you should enable -DENABLE_PYBIND=ON before compile"
   ]
  },
  {
   "cell_type": "code",
   "execution_count": 3,
   "metadata": {},
   "outputs": [],
   "source": [
    "import sys\n",
    "sys.path.append('../../../')\n",
    "import torch\n",
    "import PyCANDY as candy"
   ]
  },
  {
   "cell_type": "code",
   "execution_count": 5,
   "metadata": {},
   "outputs": [
    {
     "name": "stdout",
     "output_type": "stream",
     "text": [
      "INFO:Fri Apr 12 12:06:02 2024:/home/tony/projects/CANDY/src/CANDY/FlatAMMIPObjIndex.cpp:24|virtual bool CANDY::FlatAMMIPObjIndex::setConfig(INTELLI::ConfigMapPtr)|\u001b[34mSize of DCO=-1\u001b[0m\n"
     ]
    },
    {
     "data": {
      "text/plain": [
       "True"
      ]
     },
     "execution_count": 5,
     "metadata": {},
     "output_type": "execute_result"
    }
   ],
   "source": [
    "idxFlat=candy.createIndex('flatAMMIPObj')\n",
    "cfg={'vecDim':4,'metricType':\"IP\"}\n",
    "idxFlat.setConfig(candy.dictToConfigMap(cfg))"
   ]
  },
  {
   "cell_type": "code",
   "execution_count": 6,
   "metadata": {},
   "outputs": [
    {
     "name": "stdout",
     "output_type": "stream",
     "text": [
      "[['mig23', 'su27']]\n"
     ]
    }
   ],
   "source": [
    "a = torch.rand(4,4)\n",
    "tr = [\"mig23\",\"mig25\",\"su27\",\"su35\"]\n",
    "idxFlat.insertStringObject(a,tr)\n",
    "b=a[0:1]\n",
    "ru=idxFlat.searchStringObject(b,2)\n",
    "print(ru)"
   ]
  }
 ],
 "metadata": {
  "kernelspec": {
   "display_name": "Python 3",
   "language": "python",
   "name": "python3"
  },
  "language_info": {
   "codemirror_mode": {
    "name": "ipython",
    "version": 3
   },
   "file_extension": ".py",
   "mimetype": "text/x-python",
   "name": "python",
   "nbconvert_exporter": "python",
   "pygments_lexer": "ipython3",
   "version": "3.10.12"
  }
 },
 "nbformat": 4,
 "nbformat_minor": 2
}
