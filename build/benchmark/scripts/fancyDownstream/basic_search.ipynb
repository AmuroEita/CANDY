{
 "cells": [
  {
   "cell_type": "markdown",
   "metadata": {},
   "source": [
    "First, load the libs"
   ]
  },
  {
   "cell_type": "code",
   "execution_count": 1,
   "metadata": {},
   "outputs": [
    {
     "name": "stderr",
     "output_type": "stream",
     "text": [
      "/home/tony/.local/lib/python3.10/site-packages/tqdm/auto.py:21: TqdmWarning: IProgress not found. Please update jupyter and ipywidgets. See https://ipywidgets.readthedocs.io/en/stable/user_install.html\n",
      "  from .autonotebook import tqdm as notebook_tqdm\n"
     ]
    }
   ],
   "source": [
    "import torch\n",
    "# load the library, assume it is located together with this file\n",
    "torch.ops.load_library(\"../../../libCANDY.so\")\n"
   ]
  },
  {
   "cell_type": "markdown",
   "metadata": {},
   "source": [
    "Next, we create a rania index and insert something"
   ]
  },
  {
   "cell_type": "code",
   "execution_count": 2,
   "metadata": {},
   "outputs": [
    {
     "name": "stdout",
     "output_type": "stream",
     "text": [
      "INFO:Fri Mar 22 10:57:20 2024:/home/tony/projects/CANDY/src/CANDY/FlatAMMIPObjIndex.cpp:24|virtual bool CANDY::FlatAMMIPObjIndex::setConfig(INTELLI::ConfigMapPtr)|\u001b[34mSize of DCO=-1\u001b[0m\n",
      "tensor([[0.8556, 0.4984, 0.3575, 0.6077],\n",
      "        [0.6542, 0.1968, 0.7495, 0.0376],\n",
      "        [0.3556, 0.6797, 0.9151, 0.2580],\n",
      "        [0.9926, 0.2261, 0.9726, 0.7083]])\n",
      "tensor([[0.8556, 0.4984, 0.3575, 0.6077]])\n"
     ]
    }
   ],
   "source": [
    "rania_name=\"aknn0\"\n",
    "# gen the input tensor\n",
    "torch.ops.CANDY.index_create(rania_name, 'flatAMMIPObj')\n",
    "torch.ops.CANDY.index_loadCfgFromFile(rania_name,'rania.csv')\n",
    "torch.ops.CANDY.index_init(rania_name)\n",
    "a = torch.rand(4,4)\n",
    "str = [\"mig23\",\"mig25\",\"su27\",\"su35\"]\n",
    "torch.ops.CANDY.index_insertString (rania_name,a,str)\n",
    "print(a)\n",
    "b=a[0:1]\n",
    "print(b)"
   ]
  },
  {
   "cell_type": "markdown",
   "metadata": {},
   "source": [
    "Next, we search some strings binded to tensor"
   ]
  },
  {
   "cell_type": "code",
   "execution_count": 4,
   "metadata": {},
   "outputs": [
    {
     "name": "stdout",
     "output_type": "stream",
     "text": [
      "[['mig23', 'su27']]\n"
     ]
    }
   ],
   "source": [
    "ru=torch.ops.CANDY.index_searchString (rania_name,b,2)\n",
    "print(ru)"
   ]
  },
  {
   "cell_type": "markdown",
   "metadata": {},
   "source": [
    "The following is a more advanced python API version, which exactly matehes with c++, you should enable -DENABLE_PYBIND=ON before compile"
   ]
  },
  {
   "cell_type": "code",
   "execution_count": 3,
   "metadata": {},
   "outputs": [],
   "source": [
    "import sys\n",
    "sys.path.append('../../../')\n",
    "import PyCANDY as rania"
   ]
  },
  {
   "cell_type": "code",
   "execution_count": 5,
   "metadata": {},
   "outputs": [
    {
     "name": "stdout",
     "output_type": "stream",
     "text": [
      "INFO:Fri Apr 12 12:06:02 2024:/home/tony/projects/CANDY/src/CANDY/FlatAMMIPObjIndex.cpp:24|virtual bool CANDY::FlatAMMIPObjIndex::setConfig(INTELLI::ConfigMapPtr)|\u001b[34mSize of DCO=-1\u001b[0m\n"
     ]
    },
    {
     "data": {
      "text/plain": [
       "True"
      ]
     },
     "execution_count": 5,
     "metadata": {},
     "output_type": "execute_result"
    }
   ],
   "source": [
    "idxFlat=rania.createIndex('flatAMMIPObj')\n",
    "cfg={'vecDim':4,'metricType':\"IP\"}\n",
    "idxFlat.setConfig(rania.dictToConfigMap(cfg))"
   ]
  },
  {
   "cell_type": "code",
   "execution_count": 6,
   "metadata": {},
   "outputs": [
    {
     "name": "stdout",
     "output_type": "stream",
     "text": [
      "[['mig23', 'su27']]\n"
     ]
    }
   ],
   "source": [
    "a = torch.rand(4,4)\n",
    "tr = [\"mig23\",\"mig25\",\"su27\",\"su35\"]\n",
    "idxFlat.insertStringObject(a,tr)\n",
    "b=a[0:1]\n",
    "ru=idxFlat.searchStringObject(b,2)\n",
    "print(ru)"
   ]
  }
 ],
 "metadata": {
  "kernelspec": {
   "display_name": "Python 3",
   "language": "python",
   "name": "python3"
  },
  "language_info": {
   "codemirror_mode": {
    "name": "ipython",
    "version": 3
   },
   "file_extension": ".py",
   "mimetype": "text/x-python",
   "name": "python",
   "nbconvert_exporter": "python",
   "pygments_lexer": "ipython3",
   "version": "3.10.12"
  }
 },
 "nbformat": 4,
 "nbformat_minor": 2
}
